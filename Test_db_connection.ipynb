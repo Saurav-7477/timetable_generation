{
 "cells": [
  {
   "cell_type": "code",
   "execution_count": 9,
   "id": "7a1ca2f1",
   "metadata": {},
   "outputs": [],
   "source": [
    "import psycopg2\n",
    "from collections import defaultdict\n",
    "import json"
   ]
  },
  {
   "cell_type": "code",
   "execution_count": 10,
   "id": "e0da609c",
   "metadata": {},
   "outputs": [
    {
     "name": "stdout",
     "output_type": "stream",
     "text": [
      "✅ Connected to PostgreSQL\n"
     ]
    }
   ],
   "source": [
    "conn = psycopg2.connect(\n",
    "    dbname=\"beta_base_db\",\n",
    "    user=\"psqlsynthadmin\",\n",
    "    password=\"PSQL$ynth#2024\",\n",
    "    host=\"base-report-synth-postgredb.cb6ae20mupdy.ap-south-1.rds.amazonaws.com\",\n",
    "    port=\"5432\"\n",
    ")\n",
    "cur = conn.cursor()\n",
    "print(\"✅ Connected to PostgreSQL\")"
   ]
  },
  {
   "cell_type": "code",
   "execution_count": 34,
   "id": "b557196e",
   "metadata": {},
   "outputs": [
    {
     "name": "stdout",
     "output_type": "stream",
     "text": [
      "🎓 Classes: ['Course', 'Program', 'Admission Year', 'Academic Term', 'Subject', 'NAAC Accreditation', 'Teaching Learning and Evaluation', 'NBA Accreditation', 'Outcome-Based Education (OBE)', 'Exam Type', 'Exam Name', 'Topics', 'Sections', 'Chapters', 'Sub Category', 'Curriculum Year', 'Courses Type', 'ELMS Course', 'Academic Year', 'Building', 'Floor', 'Class Room', 'Batch', 'School Subject', 'Faculty', 'Class', 'Division']\n"
     ]
    }
   ],
   "source": [
    "# Replace with your actual classes table\n",
    "cur.execute(\"SELECT id, name FROM public.generic_master;\")\n",
    "classes_raw = cur.fetchall()\n",
    "\n",
    "# Store class names\n",
    "classes = [row[1] for row in classes_raw]\n",
    "print(\"🎓 Classes:\", classes)"
   ]
  },
  {
   "cell_type": "code",
   "execution_count": 35,
   "id": "8abeaf00",
   "metadata": {},
   "outputs": [
    {
     "name": "stdout",
     "output_type": "stream",
     "text": [
      "📘 Subjects: ['Mathematics-I', 'ENGINEERING PHYSICS - I', 'Engineering Chemistry', 'Data Communication & Computer Networks', 'Physics Chemistry Lab - I', 'Math-1', 'Advanced Programming Concepts', 'data structures and algorithms', 'Physics Laboratory', 'Object Oriented Programming', 'Civil-Math1', 'Basics of Computer Network', 'Maths', 'Control Systems', 'Environment Science ', 'Database Management System', 'Engineering Graphics and Design ', 'Material Science', 'History', 'Chemical Process Principles', 'Angular', 'Industrial Management and Safety', 'Angular', 'Ionic', 'Biology', 'Chem', 'Environment', 'Social Science ', 'Physics I', 'Updated Mathematics', 'Angular', 'Lavaras', 'Grammer', 'Grammer', 'Hindi ', 'French', 'Jermany', 'Vue', 'ChatBoot', 'Electronic Circuits-204181', '22426-Microcontroller and Applications', 'Pharmaceutical analysis-I', 'Pharmaceutics I', 'Pharmaceutical Inorganic Chemistry', 'Pharmaceutical Organic Chemistry I', 'English', 'Marathi', 'Math', 'History', 'English', 'Science', 'Pharmaceutical Inorganic  Chemistry']\n",
      "subject_master_id: 6\n",
      "subject master data :[(7, 'Mathematics-I'), (36, 'ENGINEERING PHYSICS - I'), (47, 'Engineering Chemistry'), (67, 'Data Communication & Computer Networks'), (60, 'Physics Chemistry Lab - I'), (77, 'Math-1'), (78, 'Advanced Programming Concepts'), (88, 'data structures and algorithms'), (101, 'Physics Laboratory'), (118, 'Object Oriented Programming'), (125, 'Civil-Math1'), (133, 'Basics of Computer Network'), (148, 'Maths'), (156, 'Control Systems'), (161, 'Environment Science '), (168, 'Database Management System'), (170, 'Engineering Graphics and Design '), (185, 'Material Science'), (188, 'History'), (200, 'Chemical Process Principles'), (201, 'Angular'), (207, 'Industrial Management and Safety'), (220, 'Angular'), (221, 'Ionic'), (223, 'Biology'), (224, 'Chem'), (225, 'Environment'), (226, 'Social Science '), (227, 'Physics I'), (222, 'Updated Mathematics'), (235, 'Angular'), (236, 'Lavaras'), (237, 'Grammer'), (238, 'Grammer'), (242, 'Hindi '), (243, 'French'), (244, 'Jermany'), (245, 'Vue'), (246, 'ChatBoot'), (247, 'Electronic Circuits-204181'), (251, '22426-Microcontroller and Applications'), (257, 'Pharmaceutical analysis-I'), (261, 'Pharmaceutics I'), (265, 'Pharmaceutical Inorganic Chemistry'), (269, 'Pharmaceutical Organic Chemistry I'), (277, 'English'), (279, 'Marathi'), (280, 'Math'), (281, 'History'), (282, 'English'), (283, 'Science'), (284, 'Pharmaceutical Inorganic  Chemistry')]\n"
     ]
    }
   ],
   "source": [
    "# Get subject master ID\n",
    "cur.execute(\"SELECT id FROM public.generic_master WHERE name ILIKE 'subject';\")\n",
    "subject_master_id = cur.fetchone()[0]\n",
    "\n",
    "# Now get subject data\n",
    "cur.execute(f\"SELECT id, name FROM public.generic_master_data WHERE master_id = {subject_master_id};\")\n",
    "subject_data = cur.fetchall()\n",
    "\n",
    "subject_id_name_map = {row[0]: row[1] for row in subject_data}\n",
    "subjects = list(subject_id_name_map.values())\n",
    "\n",
    "print(\"📘 Subjects:\", subjects)\n",
    "print(f\"subject_master_id: {subject_master_id}\")\n",
    "print(f\"subject master data :{subject_data}\")\n"
   ]
  },
  {
   "cell_type": "code",
   "execution_count": 4,
   "id": "dbe8ea5e",
   "metadata": {},
   "outputs": [
    {
     "name": "stdout",
     "output_type": "stream",
     "text": [
      "📚 Teacher → Subjects mapping:\n",
      "Pratik More: ['Chem', 'Physics I-Internal']\n",
      "Sagar Patil: ['Updated Mathematics']\n",
      "Rohan Suradkar: ['Physics I Univercity Exam-8967']\n",
      "Aafreen Kotadiya: ['Social Science ', 'Marathi', 'Math']\n",
      "Aditi Bulbule: ['ChatBoot', 'Hindi ']\n",
      "Abhijeet Wagh: ['Jermany']\n",
      "Abhidnya Gaikwad: ['Vue']\n",
      "Bhavana Tambe: ['Grammer']\n",
      "Atul Baviskar: ['English']\n",
      "Arvind Kumbhar: ['English', 'Math']\n",
      "Harshada Phate: ['Math']\n",
      "Jayesh Dhabalia: ['EVS', 'Hindi']\n",
      "Keyur Karad: ['Drawing']\n",
      "Mrinmayee Sonawane: ['English']\n",
      "Nirmala Shinde: ['Math']\n",
      "Pradeep Jadhav: ['EVS']\n",
      "Priya Wakchaure: ['Hindi']\n"
     ]
    }
   ],
   "source": [
    "# Step 1: Get subject ID → subject name\n",
    "cur.execute(\"SELECT id, name FROM public.generic_master_data;\")\n",
    "subject_id_name_map = dict(cur.fetchall())\n",
    "\n",
    "# Step 2: Get faculty info from subject_faculty\n",
    "cur.execute(\"\"\"\n",
    "    SELECT \n",
    "        faculty_id, \n",
    "        first_name || ' ' || last_name AS faculty_name, \n",
    "        subject_id\n",
    "    FROM public.subject_faculty;\n",
    "\"\"\")\n",
    "rows = cur.fetchall()\n",
    "\n",
    "# Step 3: Build the teacher → subjects mapping\n",
    "from collections import defaultdict\n",
    "\n",
    "teacher_to_subjects = defaultdict(list)\n",
    "\n",
    "for faculty_id, faculty_name, subject_id in rows:\n",
    "    subject_name = subject_id_name_map.get(subject_id)\n",
    "    if subject_name:\n",
    "        teacher_to_subjects[faculty_name].append(subject_name)\n",
    "\n",
    "# Output the mapping\n",
    "print(\"📚 Teacher → Subjects mapping:\")\n",
    "for teacher, subjects in teacher_to_subjects.items():\n",
    "    print(f\"{teacher}: {subjects}\")\n"
   ]
  },
  {
   "cell_type": "code",
   "execution_count": null,
   "id": "a752897c",
   "metadata": {},
   "outputs": [],
   "source": []
  },
  {
   "cell_type": "code",
   "execution_count": 51,
   "id": "d5a9fdbb",
   "metadata": {},
   "outputs": [],
   "source": [
    "# cur.execute(\"\"\"\n",
    "#     SELECT f.id AS faculty_id, f.name AS faculty_name, gmd.name AS subject_name\n",
    "#     FROM public.subject_faculty sf\n",
    "#     JOIN public.generic_master_data gmd ON sf.subject_id = gmd.id\n",
    "#     JOIN public.faculty_master f ON sf.faculty_id = f.id;\n",
    "# \"\"\")\n",
    "# rows = cur.fetchall()\n",
    "\n",
    "# # Build teacher → subjects map\n",
    "# from collections import defaultdict\n",
    "\n",
    "# teacher_to_subjects = defaultdict(list)\n",
    "# for faculty_id, faculty_name, subject_name in rows:\n",
    "#     teacher_to_subjects[faculty_name].append(subject_name)\n",
    "\n",
    "# # Print\n",
    "# print(\"📚 Teacher → Subjects mapping:\")\n",
    "# for teacher, subs in teacher_to_subjects.items():\n",
    "#     print(f\"{teacher}: {subs}\")\n"
   ]
  },
  {
   "cell_type": "code",
   "execution_count": null,
   "id": "4b62c039",
   "metadata": {},
   "outputs": [],
   "source": []
  },
  {
   "cell_type": "code",
   "execution_count": 53,
   "id": "f261e22f",
   "metadata": {},
   "outputs": [],
   "source": [
    "# conn.rollback()"
   ]
  },
  {
   "cell_type": "code",
   "execution_count": null,
   "id": "7cc46641",
   "metadata": {},
   "outputs": [],
   "source": []
  },
  {
   "cell_type": "markdown",
   "id": "4290b82a",
   "metadata": {},
   "source": [
    "# Setting up the classroom for a particular classroom "
   ]
  },
  {
   "cell_type": "code",
   "execution_count": 5,
   "id": "8492f20b",
   "metadata": {},
   "outputs": [
    {
     "name": "stdout",
     "output_type": "stream",
     "text": [
      "📘 Class-Division Map:\n",
      "8 th Div - A: {'class_id': 130, 'division_id': 131}\n",
      "\n",
      "🏫 Available Classrooms:\n",
      "129: 8A - The Innovation Room\n",
      "138: 101 A\n",
      "139: 102B\n"
     ]
    }
   ],
   "source": [
    "# Step 1: Get Class-Division pairs\n",
    "cur.execute(\"\"\"\n",
    "    SELECT d.id AS division_id, d.name AS division_name,\n",
    "           c.id AS class_id, c.name AS class_name\n",
    "    FROM public.generic_master_data d\n",
    "    JOIN public.generic_master_data c\n",
    "      ON d.parent_id = c.id\n",
    "    WHERE d.master_id = 24 AND c.master_id = 23;\n",
    "\"\"\")\n",
    "class_division_rows = cur.fetchall()\n",
    "\n",
    "# Create mapping: e.g., {'6A': {'class_id': ..., 'division_id': ...}, ...}\n",
    "class_division_map = {}\n",
    "for division_id, division_name, class_id, class_name in class_division_rows:\n",
    "    key = f\"{class_name}{division_name}\"\n",
    "    class_division_map[key] = {\n",
    "        'class_id': class_id,\n",
    "        'division_id': division_id\n",
    "    }\n",
    "\n",
    "# Step 2: Get Classrooms\n",
    "cur.execute(\"\"\"\n",
    "    SELECT id, name\n",
    "    FROM public.generic_master_data\n",
    "    WHERE master_id = 22;\n",
    "\"\"\")\n",
    "classroom_rows = cur.fetchall()\n",
    "classroom_dict = {row[0]: row[1] for row in classroom_rows}\n",
    "\n",
    "# Preview results\n",
    "print(\"📘 Class-Division Map:\")\n",
    "for key, val in class_division_map.items():\n",
    "    print(f\"{key}: {val}\")\n",
    "\n",
    "print(\"\\n🏫 Available Classrooms:\")\n",
    "for cid, cname in classroom_dict.items():\n",
    "    print(f\"{cid}: {cname}\")\n"
   ]
  },
  {
   "cell_type": "code",
   "execution_count": 7,
   "id": "0564fa9c",
   "metadata": {},
   "outputs": [
    {
     "name": "stdout",
     "output_type": "stream",
     "text": [
      "(131, 'Div - A', 130, '8 th ')\n"
     ]
    }
   ],
   "source": [
    "cur.execute(\"\"\"\n",
    "    SELECT d.id AS division_id, d.name AS division_name,\n",
    "           c.id AS class_id, c.name AS class_name\n",
    "    FROM public.generic_master_data d\n",
    "    JOIN public.generic_master_data c\n",
    "      ON d.parent_id = c.id\n",
    "    WHERE d.master_id = 24 AND c.master_id = 23;\n",
    "\"\"\")\n",
    "class_division_rows = cur.fetchall()\n",
    "\n"
   ]
  },
  {
   "cell_type": "code",
   "execution_count": 11,
   "id": "f0cbaad9",
   "metadata": {},
   "outputs": [],
   "source": [
    "query = \"\"\"\n",
    "    SELECT c.name AS class_name, d.name AS division_name\n",
    "    FROM generic_master_data d\n",
    "    JOIN generic_master_data c ON d.parent_id = c.id\n",
    "    WHERE c.master_id = 23 AND d.master_id = 24 AND c.name = %s\n",
    "\"\"\"\n",
    "cur.execute(query, (class_name,))\n"
   ]
  },
  {
   "cell_type": "code",
   "execution_count": 13,
   "id": "1b8242e0",
   "metadata": {},
   "outputs": [],
   "source": [
    "cur.execute(\"\"\"\n",
    "        SELECT d.id AS division_id, d.name AS division_name,\n",
    "               c.id AS class_id, c.name AS class_name\n",
    "        FROM public.generic_master_data d\n",
    "        JOIN public.generic_master_data c ON d.parent_id = c.id\n",
    "        WHERE d.master_id = 24 AND c.master_id = 23;\n",
    "    \"\"\")\n",
    "class_division_rows = cur.fetchall()\n",
    "class_division_map = {}\n",
    "for division_id, division_name, class_id, class_name in class_division_rows:\n",
    "    key = f\"{class_name}  Div - {division_name}\"\n",
    "    class_division_map[key] = {\n",
    "            'class_id': class_id,\n",
    "            'division_id': division_id\n",
    "        }"
   ]
  },
  {
   "cell_type": "code",
   "execution_count": 17,
   "id": "e7b7c5d2",
   "metadata": {},
   "outputs": [
    {
     "data": {
      "text/plain": [
       "{'8 th   Div - Div - A': {'class_id': 130,\n",
       "  'division_id': 131,\n",
       "  'classroom_id': None,\n",
       "  'classroom_name': 'Unknown'}}"
      ]
     },
     "execution_count": 17,
     "metadata": {},
     "output_type": "execute_result"
    }
   ],
   "source": [
    "class_division_map"
   ]
  },
  {
   "cell_type": "code",
   "execution_count": 15,
   "id": "3da7a979",
   "metadata": {},
   "outputs": [],
   "source": [
    "for key, val in class_division_map.items():\n",
    "        division_id = val[\"division_id\"]\n",
    "        classroom_id = class_division_map.get(division_id)\n",
    "        val[\"classroom_id\"] = classroom_id\n",
    "        val[\"classroom_name\"] = classroom_dict.get(classroom_id, \"Unknown\")"
   ]
  },
  {
   "cell_type": "code",
   "execution_count": 16,
   "id": "49731870",
   "metadata": {},
   "outputs": [
    {
     "data": {
      "text/plain": [
       "dict_items([('8 th   Div - Div - A', {'class_id': 130, 'division_id': 131, 'classroom_id': None, 'classroom_name': 'Unknown'})])"
      ]
     },
     "execution_count": 16,
     "metadata": {},
     "output_type": "execute_result"
    }
   ],
   "source": [
    "class_division_map.items()"
   ]
  },
  {
   "cell_type": "code",
   "execution_count": null,
   "id": "6b67b93f",
   "metadata": {},
   "outputs": [],
   "source": [
    "def get_divisions_for_class(class_name: str):\n",
    "    conn = psycopg2.connect(\n",
    "        dbname=\"beta_base_db\",\n",
    "        user=\"psqlsynthadmin\",\n",
    "        password=\"PSQL$ynth#2024\",\n",
    "        host=\"base-report-synth-postgredb.cb6ae20mupdy.ap-south-1.rds.amazonaws.com\",\n",
    "        port=\"5432\"\n",
    "    )\n",
    "    cur = conn.cursor()\n",
    "\n",
    "    query = \"\"\"\n",
    "    SELECT c.name AS class_name, d.name AS division_name\n",
    "    FROM generic_master_data d\n",
    "    JOIN generic_master_data c ON d.parent_id = c.id\n",
    "    WHERE c.master_id = 5 AND d.master_id = 24 AND c.name = %s\n",
    "    \"\"\"\n",
    "    cur.execute(query, (class_name,))\n",
    "    rows = cur.fetchall()\n",
    "    cur.close()\n",
    "    conn.close()\n",
    "    # print(rows)\n",
    "\n",
    "    return [f\"{row[0]}  Div - {row[1]}\" for row in rows]"
   ]
  },
  {
   "cell_type": "code",
   "execution_count": 38,
   "id": "17f4a4d1",
   "metadata": {},
   "outputs": [
    {
     "name": "stdout",
     "output_type": "stream",
     "text": [
      "[('3 rd std', 'A  div'), ('3 rd std', 'B  div'), ('3 rd std', 'C  div')]\n"
     ]
    },
    {
     "data": {
      "text/plain": [
       "['3 rd std  Div - A  div', '3 rd std  Div - B  div', '3 rd std  Div - C  div']"
      ]
     },
     "execution_count": 38,
     "metadata": {},
     "output_type": "execute_result"
    }
   ],
   "source": [
    "get_divisions_for_class(\"3 rd std\")"
   ]
  },
  {
   "cell_type": "code",
   "execution_count": 35,
   "id": "7efcf0a6",
   "metadata": {},
   "outputs": [
    {
     "data": {
      "text/plain": [
       "[{'id': 75, 'name': 'MCA 1st semester'},\n",
       " {'id': 76, 'name': 'BE 1st semester'},\n",
       " {'id': 66, 'name': 'MCA-1 sem'},\n",
       " {'id': 6, 'name': 'BE ME 1st Semester'},\n",
       " {'id': 100, 'name': 'BE-ME-2nd-1 sem'},\n",
       " {'id': 113, 'name': 'BE-Computer Science- 1 sem'},\n",
       " {'id': 117, 'name': 'BE-IT-3 Sem'},\n",
       " {'id': 124, 'name': 'Civil- 1 sem'},\n",
       " {'id': 145, 'name': 'NA'},\n",
       " {'id': 146, 'name': '8th Std'},\n",
       " {'id': 147, 'name': '9th Std'},\n",
       " {'id': 155, 'name': 'BE-Electronics and Telecommunication-3 Sem'},\n",
       " {'id': 162, 'name': '10 th '},\n",
       " {'id': 163, 'name': '2 st'},\n",
       " {'id': 169, 'name': 'Electrical 1st semester'},\n",
       " {'id': 184, 'name': 'Electrical-3rd semester'},\n",
       " {'id': 199, 'name': 'BE-Chemical Engineering-3rd sem'},\n",
       " {'id': 206, 'name': 'Diploma-chemical-1sem'},\n",
       " {'id': 232, 'name': 'Msc '},\n",
       " {'id': 256, 'name': 'Sem-I'},\n",
       " {'id': 276, 'name': '1 st '},\n",
       " {'id': 292, 'name': '9 th Std'},\n",
       " {'id': 294, 'name': '3 rd std'},\n",
       " {'id': 295, 'name': '4 th std'},\n",
       " {'id': 296, 'name': '5 th std'}]"
      ]
     },
     "execution_count": 35,
     "metadata": {},
     "output_type": "execute_result"
    }
   ],
   "source": [
    "import psycopg2\n",
    "\n",
    "def get_classes():\n",
    "    conn = psycopg2.connect(\n",
    "        dbname=\"beta_base_db\",\n",
    "        user=\"psqlsynthadmin\",\n",
    "        password=\"PSQL$ynth#2024\",\n",
    "        host=\"base-report-synth-postgredb.cb6ae20mupdy.ap-south-1.rds.amazonaws.com\",\n",
    "        port=\"5432\"\n",
    "    )\n",
    "    cur = conn.cursor()\n",
    "\n",
    "    query = \"\"\"\n",
    "    SELECT id, name \n",
    "    FROM public.generic_master_data \n",
    "    WHERE master_id = 5;\n",
    "    \"\"\"\n",
    "    cur.execute(query)\n",
    "    rows = cur.fetchall()\n",
    "\n",
    "    cur.close()\n",
    "    conn.close()\n",
    "\n",
    "    return [{\"id\": row[0], \"name\": row[1]} for row in rows]\n",
    "\n",
    "get_classes()"
   ]
  },
  {
   "cell_type": "code",
   "execution_count": null,
   "id": "92d394dd",
   "metadata": {},
   "outputs": [],
   "source": []
  },
  {
   "cell_type": "code",
   "execution_count": null,
   "id": "0d060391",
   "metadata": {},
   "outputs": [],
   "source": []
  }
 ],
 "metadata": {
  "kernelspec": {
   "display_name": "csp",
   "language": "python",
   "name": "python3"
  },
  "language_info": {
   "codemirror_mode": {
    "name": "ipython",
    "version": 3
   },
   "file_extension": ".py",
   "mimetype": "text/x-python",
   "name": "python",
   "nbconvert_exporter": "python",
   "pygments_lexer": "ipython3",
   "version": "3.11.9"
  }
 },
 "nbformat": 4,
 "nbformat_minor": 5
}
